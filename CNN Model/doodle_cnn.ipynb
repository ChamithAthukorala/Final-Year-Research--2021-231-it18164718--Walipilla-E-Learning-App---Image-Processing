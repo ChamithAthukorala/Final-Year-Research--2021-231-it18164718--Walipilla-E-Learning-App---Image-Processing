{
 "cells": [
  {
   "cell_type": "code",
   "execution_count": null,
   "metadata": {
    "execution": {
     "iopub.execute_input": "2021-09-08T08:08:18.09715Z",
     "iopub.status.busy": "2021-09-08T08:08:18.096838Z",
     "iopub.status.idle": "2021-09-08T08:08:18.106569Z",
     "shell.execute_reply": "2021-09-08T08:08:18.10579Z",
     "shell.execute_reply.started": "2021-09-08T08:08:18.097083Z"
    },
    "id": "M3BfJCVnKzzD"
   },
   "outputs": [],
   "source": [
    "import urllib.request\n",
    "from tqdm import tqdm\n",
    "import os \n",
    "import glob\n",
    "import numpy as np\n",
    "import pandas as pd"
   ]
  },
  {
   "cell_type": "code",
   "execution_count": null,
   "metadata": {
    "execution": {
     "iopub.execute_input": "2021-09-08T08:08:18.111859Z",
     "iopub.status.busy": "2021-09-08T08:08:18.111535Z",
     "iopub.status.idle": "2021-09-08T08:08:18.118507Z",
     "shell.execute_reply": "2021-09-08T08:08:18.117744Z",
     "shell.execute_reply.started": "2021-09-08T08:08:18.111808Z"
    },
    "id": "_-tvEwEpLeg2"
   },
   "outputs": [],
   "source": [
    "# class_names = ['sun', 'face', 'ant', 'apple', 'bird', 'airplane', 'crown', 'cup', 'eyeglasses', 'fish', 'envelope', 'flower', 'house', 'moon', 'rabbit', 'shark', 'star', 'strawberry', 'umbrella', 'saxophone', 'television', 'teapot', 'sword',  'octopus', 'pineapple', 'scissors', 'snail']\n",
    "class_names = ['sun', 'face', 'ant', 'bird', 'crown', 'fish', 'flower', 'house', 'star', 'envelope']"
   ]
  },
  {
   "cell_type": "code",
   "execution_count": null,
   "metadata": {
    "execution": {
     "iopub.execute_input": "2021-09-08T08:08:18.122627Z",
     "iopub.status.busy": "2021-09-08T08:08:18.12235Z",
     "iopub.status.idle": "2021-09-08T08:08:28.026479Z",
     "shell.execute_reply": "2021-09-08T08:08:28.025399Z",
     "shell.execute_reply.started": "2021-09-08T08:08:18.122603Z"
    },
    "id": "oKGLoi93K35C",
    "outputId": "57debd4b-fa68-4f99-a60f-9d90879090d4"
   },
   "outputs": [],
   "source": [
    "# download \n",
    "!mkdir dataset\n",
    "\n",
    "for label in tqdm(class_names):\n",
    "  print('Downloading {} file...'.format(label))\n",
    "  endpoint = 'https://storage.googleapis.com/quickdraw_dataset/full/numpy_bitmap/{}.npy'\n",
    "  dataset_path = 'dataset/{}.npy' \n",
    "  urllib.request.urlretrieve(endpoint.format(label), dataset_path.format(label))"
   ]
  },
  {
   "cell_type": "code",
   "execution_count": null,
   "metadata": {
    "execution": {
     "iopub.execute_input": "2021-09-08T08:08:28.028746Z",
     "iopub.status.busy": "2021-09-08T08:08:28.028336Z",
     "iopub.status.idle": "2021-09-08T08:08:39.035983Z",
     "shell.execute_reply": "2021-09-08T08:08:39.03499Z",
     "shell.execute_reply.started": "2021-09-08T08:08:28.028705Z"
    },
    "id": "EtiSEGVJM4OS",
    "outputId": "407ce32f-4f34-483c-a145-2a32701529d4"
   },
   "outputs": [],
   "source": [
    "files = glob.glob(os.path.join('dataset/', '*.npy'))\n",
    "\n",
    "x = np.empty([0, 784])\n",
    "y = np.empty([0])\n",
    "lbls = {}\n",
    "# sort alphabatically\n",
    "files.sort()\n",
    "\n",
    "for id, file in tqdm(enumerate(files)):\n",
    "  arrs = np.load(file)[0: 84000]  # get only 830000 records per each\n",
    "  labels = np.full(arrs.shape[0], id)  # make array with labels\n",
    "  \n",
    "  x = np.concatenate((x, arrs), axis=0)\n",
    "  y = np.concatenate((y, labels), axis=0)\n",
    "\n",
    "  lbls[id] = file.split('/')[-1].split('.')[0]\n",
    "x.shape, y.shape\n",
    "print('\\n', lbls)"
   ]
  },
  {
   "cell_type": "code",
   "execution_count": null,
   "metadata": {
    "execution": {
     "iopub.execute_input": "2021-09-08T08:08:39.038748Z",
     "iopub.status.busy": "2021-09-08T08:08:39.038115Z",
     "iopub.status.idle": "2021-09-08T08:08:39.368826Z",
     "shell.execute_reply": "2021-09-08T08:08:39.367459Z",
     "shell.execute_reply.started": "2021-09-08T08:08:39.038707Z"
    },
    "id": "-SPMK6ZgYU8T"
   },
   "outputs": [],
   "source": [
    "df = pd.DataFrame({'image': list(x), 'label': y})\n",
    "df['label'] = df['label'].astype(int)"
   ]
  },
  {
   "cell_type": "code",
   "execution_count": null,
   "metadata": {
    "execution": {
     "iopub.execute_input": "2021-09-08T08:08:39.370818Z",
     "iopub.status.busy": "2021-09-08T08:08:39.370369Z",
     "iopub.status.idle": "2021-09-08T08:08:40.791476Z",
     "shell.execute_reply": "2021-09-08T08:08:40.790698Z",
     "shell.execute_reply.started": "2021-09-08T08:08:39.370787Z"
    },
    "id": "x-stOdp2er7Q",
    "outputId": "5306c2a6-d6ef-410c-d321-70888ee82c40"
   },
   "outputs": [],
   "source": [
    "# shuffle dataframe\n",
    "from sklearn import utils\n",
    "\n",
    "\n",
    "df = utils.shuffle(df).reset_index(drop=True)\n",
    "df.head()"
   ]
  },
  {
   "cell_type": "code",
   "execution_count": null,
   "metadata": {
    "execution": {
     "iopub.execute_input": "2021-09-08T08:08:40.793153Z",
     "iopub.status.busy": "2021-09-08T08:08:40.792787Z",
     "iopub.status.idle": "2021-09-08T08:08:41.530783Z",
     "shell.execute_reply": "2021-09-08T08:08:41.529764Z",
     "shell.execute_reply.started": "2021-09-08T08:08:40.793116Z"
    },
    "id": "4B3zJaQJfLQI"
   },
   "outputs": [],
   "source": [
    "from sklearn.model_selection import train_test_split\n",
    "\n",
    "# independant dependant var\n",
    "x = df['image']\n",
    "y = df['label']\n",
    "\n",
    "x_train, x_test, y_train, y_test = train_test_split(x, y, test_size=0.001, random_state=5, stratify=y)"
   ]
  },
  {
   "cell_type": "code",
   "execution_count": null,
   "metadata": {
    "execution": {
     "iopub.execute_input": "2021-09-08T08:08:41.532537Z",
     "iopub.status.busy": "2021-09-08T08:08:41.532207Z",
     "iopub.status.idle": "2021-09-08T08:08:42.333456Z",
     "shell.execute_reply": "2021-09-08T08:08:42.329403Z",
     "shell.execute_reply.started": "2021-09-08T08:08:41.532502Z"
    },
    "id": "Ti9ElH2j0XBi",
    "outputId": "24e001be-9a7c-4bb6-b8ad-882f40304bf1"
   },
   "outputs": [],
   "source": [
    "# show random images from training set\n",
    "import matplotlib.pyplot as plt\n",
    "from random import randint\n",
    "for i in range(5):\n",
    "    id=0\n",
    "    try:\n",
    "        plt.imshow(x_train[i].reshape(28, 28))\n",
    "    except:\n",
    "        continue\n",
    "    idx = (-y_train[i]).argsort()[0]\n",
    "    plt.show()\n"
   ]
  },
  {
   "cell_type": "markdown",
   "metadata": {
    "id": "mQTggFwK3WVe"
   },
   "source": [
    "Preprocessing"
   ]
  },
  {
   "cell_type": "code",
   "execution_count": null,
   "metadata": {
    "execution": {
     "iopub.execute_input": "2021-09-08T08:08:42.337006Z",
     "iopub.status.busy": "2021-09-08T08:08:42.336709Z",
     "iopub.status.idle": "2021-09-08T08:08:47.848072Z",
     "shell.execute_reply": "2021-09-08T08:08:47.847227Z",
     "shell.execute_reply.started": "2021-09-08T08:08:42.336976Z"
    },
    "id": "nIwZ03d33MMo",
    "outputId": "c9e1c374-3f52-409e-8d0e-2da56ad0cceb"
   },
   "outputs": [],
   "source": [
    "x_train = np.array(x_train.tolist()).reshape(x_train.shape[0], 28, 28, 1).astype('float32')\n",
    "x_test = np.array(x_test.tolist()).reshape(x_test.shape[0], 28, 28, 1).astype('float32')\n",
    "\n",
    "x_train.shape, x_test.shape\n"
   ]
  },
  {
   "cell_type": "code",
   "execution_count": null,
   "metadata": {
    "execution": {
     "iopub.execute_input": "2021-09-08T08:08:47.851407Z",
     "iopub.status.busy": "2021-09-08T08:08:47.851057Z",
     "iopub.status.idle": "2021-09-08T08:08:51.913614Z",
     "shell.execute_reply": "2021-09-08T08:08:51.912728Z",
     "shell.execute_reply.started": "2021-09-08T08:08:47.85137Z"
    },
    "id": "hEVxOtDf43bs"
   },
   "outputs": [],
   "source": [
    "import tensorflow as tf\n",
    "\n",
    "y_train = tf.keras.utils.to_categorical(y_train, len(class_names))\n",
    "y_test = tf.keras.utils.to_categorical(y_test, len(class_names))"
   ]
  },
  {
   "cell_type": "code",
   "execution_count": null,
   "metadata": {
    "execution": {
     "iopub.execute_input": "2021-09-08T08:08:51.915764Z",
     "iopub.status.busy": "2021-09-08T08:08:51.915478Z",
     "iopub.status.idle": "2021-09-08T08:08:51.967909Z",
     "shell.execute_reply": "2021-09-08T08:08:51.967044Z",
     "shell.execute_reply.started": "2021-09-08T08:08:51.915738Z"
    }
   },
   "outputs": [],
   "source": [
    "from keras.preprocessing.image import ImageDataGenerator\n",
    "\n",
    "\n",
    "image_gen = ImageDataGenerator(\n",
    "    rescale=1./255,\n",
    "    rotation_range=90,\n",
    "    width_shift_range=0.2,\n",
    "    height_shift_range=0.2,\n",
    "    zoom_range=0.1,\n",
    "    horizontal_flip=True,\n",
    "    vertical_flip=True,\n",
    "    fill_mode='nearest',\n",
    ")"
   ]
  },
  {
   "cell_type": "code",
   "execution_count": null,
   "metadata": {
    "execution": {
     "iopub.execute_input": "2021-09-08T08:08:51.969727Z",
     "iopub.status.busy": "2021-09-08T08:08:51.969347Z",
     "iopub.status.idle": "2021-09-08T08:08:51.975171Z",
     "shell.execute_reply": "2021-09-08T08:08:51.973791Z",
     "shell.execute_reply.started": "2021-09-08T08:08:51.969688Z"
    }
   },
   "outputs": [],
   "source": [
    "train_generator = image_gen.flow(x_train, y_train)\n",
    "test_generator = image_gen.flow(x_test, y_test)"
   ]
  },
  {
   "cell_type": "code",
   "execution_count": null,
   "metadata": {
    "execution": {
     "iopub.execute_input": "2021-09-08T08:08:51.977358Z",
     "iopub.status.busy": "2021-09-08T08:08:51.976845Z",
     "iopub.status.idle": "2021-09-08T08:08:52.133911Z",
     "shell.execute_reply": "2021-09-08T08:08:52.133068Z",
     "shell.execute_reply.started": "2021-09-08T08:08:51.977317Z"
    }
   },
   "outputs": [],
   "source": [
    "sample_img = x_train[0]\n",
    "plt.imshow(sample_img)\n"
   ]
  },
  {
   "cell_type": "code",
   "execution_count": null,
   "metadata": {
    "execution": {
     "iopub.execute_input": "2021-09-08T08:08:52.139213Z",
     "iopub.status.busy": "2021-09-08T08:08:52.138768Z",
     "iopub.status.idle": "2021-09-08T08:08:52.145809Z",
     "shell.execute_reply": "2021-09-08T08:08:52.144705Z",
     "shell.execute_reply.started": "2021-09-08T08:08:52.139179Z"
    }
   },
   "outputs": [],
   "source": [
    "def plot_images(images_arr):\n",
    "    fig, axes = plt.subplots(1, 10, figsize=(28, 28))\n",
    "    axes = axes.flatten()\n",
    "    \n",
    "    for img, ax in zip(images_arr, axes):\n",
    "        ax.imshow(img)\n",
    "        ax.axis('off')\n",
    "    plt.tight_layout()\n",
    "    plt.show()"
   ]
  },
  {
   "cell_type": "code",
   "execution_count": null,
   "metadata": {
    "execution": {
     "iopub.execute_input": "2021-09-08T08:08:52.147664Z",
     "iopub.status.busy": "2021-09-08T08:08:52.147184Z",
     "iopub.status.idle": "2021-09-08T08:08:52.812061Z",
     "shell.execute_reply": "2021-09-08T08:08:52.811267Z",
     "shell.execute_reply.started": "2021-09-08T08:08:52.147619Z"
    }
   },
   "outputs": [],
   "source": [
    "plt.imshow(sample_img)\n",
    "sample_img *= 255\n",
    "aug_iter = image_gen.flow(sample_img.reshape(1, 28, 28, 1))\n",
    "aug_samples = [next(aug_iter)[0].astype(np.uint8) for i in range(10)]\n",
    "plot_images(aug_samples)"
   ]
  },
  {
   "cell_type": "code",
   "execution_count": null,
   "metadata": {},
   "outputs": [],
   "source": []
  },
  {
   "cell_type": "code",
   "execution_count": null,
   "metadata": {
    "execution": {
     "iopub.execute_input": "2021-09-08T08:08:52.813652Z",
     "iopub.status.busy": "2021-09-08T08:08:52.813305Z",
     "iopub.status.idle": "2021-09-08T08:08:54.852281Z",
     "shell.execute_reply": "2021-09-08T08:08:54.851483Z",
     "shell.execute_reply.started": "2021-09-08T08:08:52.813616Z"
    },
    "id": "e6JRgFuZ64Ou",
    "outputId": "a5673388-ccdb-4f31-ef9a-547293466577"
   },
   "outputs": [],
   "source": [
    "from tensorflow.keras.models import Sequential\n",
    "from tensorflow.keras.layers import Dense, Dropout, Flatten, BatchNormalization\n",
    "from tensorflow.keras.layers import Conv2D, MaxPooling2D\n",
    "\n",
    "\n",
    "model = Sequential()\n",
    "# conv layer 1\n",
    "model.add(Conv2D(6, kernel_size=(3, 3), padding='same', activation='relu', input_shape=(28, 28, 1)))\n",
    "model.add(BatchNormalization())\n",
    "# conv layer 2\n",
    "model.add(Conv2D(16, kernel_size=(3, 3), padding='same', activation='relu'))\n",
    "model.add(BatchNormalization())\n",
    "# pool 1\n",
    "model.add(MaxPooling2D(pool_size=(3, 3)))\n",
    "# conv layer 3\n",
    "model.add(Conv2D(16, kernel_size=(3, 3), padding='same', activation='relu'))\n",
    "model.add(BatchNormalization())\n",
    "# conv layer 4\n",
    "model.add(Conv2D(16, kernel_size=(3, 3), padding='same', activation='relu'))\n",
    "model.add(BatchNormalization())\n",
    "# pool 2\n",
    "model.add(MaxPooling2D(pool_size=(2, 2)))\n",
    "\n",
    "model.add(Conv2D(32, kernel_size=(3, 3), padding='same', activation='relu'))\n",
    "model.add(BatchNormalization())\n",
    "\n",
    "# 92 % reached architecture\n",
    "model.add(Conv2D(64, kernel_size=(3, 3), padding='same', activation='relu'))\n",
    "model.add(BatchNormalization())\n",
    "model.add(Conv2D(64, kernel_size=(3, 3), padding='same', activation='relu'))\n",
    "model.add(BatchNormalization())\n",
    "\n",
    "model.add(Flatten())\n",
    "model.add(Dense(128, activation='relu'))\n",
    "model.add(Dropout(0.5))\n",
    "model.add(Dense(len(class_names), activation='softmax'))\n",
    "model.summary()"
   ]
  },
  {
   "cell_type": "code",
   "execution_count": null,
   "metadata": {
    "execution": {
     "iopub.execute_input": "2021-09-08T08:08:54.853777Z",
     "iopub.status.busy": "2021-09-08T08:08:54.853452Z",
     "iopub.status.idle": "2021-09-08T08:08:54.869687Z",
     "shell.execute_reply": "2021-09-08T08:08:54.868709Z",
     "shell.execute_reply.started": "2021-09-08T08:08:54.85374Z"
    },
    "id": "Libhg0bh7Y-0"
   },
   "outputs": [],
   "source": [
    "from tensorflow.keras.optimizers import Adam\n",
    "\n",
    "model.compile(loss='categorical_crossentropy',\n",
    "             optimizer=Adam(learning_rate=1e-4),\n",
    "             metrics=['accuracy']\n",
    "             )"
   ]
  },
  {
   "cell_type": "code",
   "execution_count": null,
   "metadata": {
    "execution": {
     "iopub.execute_input": "2021-09-08T08:08:54.871418Z",
     "iopub.status.busy": "2021-09-08T08:08:54.870986Z",
     "iopub.status.idle": "2021-09-08T08:08:54.875926Z",
     "shell.execute_reply": "2021-09-08T08:08:54.874889Z",
     "shell.execute_reply.started": "2021-09-08T08:08:54.87138Z"
    },
    "id": "bRgHsObwEfyx"
   },
   "outputs": [],
   "source": [
    "from keras.callbacks import EarlyStopping\n",
    "from keras.callbacks import ReduceLROnPlateau\n",
    "\n",
    "\n",
    "early_stopping = EarlyStopping(patience=5, restore_best_weights=True)"
   ]
  },
  {
   "cell_type": "code",
   "execution_count": null,
   "metadata": {
    "execution": {
     "iopub.execute_input": "2021-09-08T08:08:54.877664Z",
     "iopub.status.busy": "2021-09-08T08:08:54.877248Z",
     "iopub.status.idle": "2021-09-08T10:00:23.192763Z",
     "shell.execute_reply": "2021-09-08T10:00:23.191891Z",
     "shell.execute_reply.started": "2021-09-08T08:08:54.877608Z"
    },
    "id": "03fBtbEb7-lt",
    "outputId": "13f210a9-8dde-4b5f-c187-55536d6a1cbc"
   },
   "outputs": [],
   "source": [
    "hist = model.fit(\n",
    "    train_generator,\n",
    "    epochs=50,\n",
    "    verbose=1,\n",
    "    validation_data=test_generator,\n",
    "    callbacks=[early_stopping]\n",
    "    )"
   ]
  },
  {
   "cell_type": "code",
   "execution_count": null,
   "metadata": {
    "execution": {
     "iopub.execute_input": "2021-09-08T10:00:23.194721Z",
     "iopub.status.busy": "2021-09-08T10:00:23.19435Z",
     "iopub.status.idle": "2021-09-08T10:00:23.203585Z",
     "shell.execute_reply": "2021-09-08T10:00:23.20097Z",
     "shell.execute_reply.started": "2021-09-08T10:00:23.194681Z"
    }
   },
   "outputs": [],
   "source": [
    "import matplotlib.pyplot as plt\n",
    "\n",
    "def gen_graph(history, title):\n",
    "    \n",
    "  plt.plot(history.history['accuracy'])\n",
    "  plt.plot(history.history['val_accuracy'])\n",
    "  plt.title('model accuracy')\n",
    "  plt.ylabel('accuracy')\n",
    "  plt.xlabel('epoch')\n",
    "  plt.legend(['train', 'val'], loc='upper left')\n",
    "  plt.show()\n",
    "\n",
    "  plt.plot(history.history['loss'])\n",
    "  plt.plot(history.history['val_loss'])\n",
    "  plt.title('model loss')\n",
    "  plt.ylabel('loss')\n",
    "  plt.xlabel('epoch')\n",
    "  plt.legend(['train', 'val'], loc='upper left')\n",
    "  plt.show()\n",
    "  plt.show()"
   ]
  },
  {
   "cell_type": "code",
   "execution_count": null,
   "metadata": {
    "execution": {
     "iopub.execute_input": "2021-09-08T10:00:23.205617Z",
     "iopub.status.busy": "2021-09-08T10:00:23.204946Z",
     "iopub.status.idle": "2021-09-08T10:00:23.223151Z",
     "shell.execute_reply": "2021-09-08T10:00:23.222363Z",
     "shell.execute_reply.started": "2021-09-08T10:00:23.205572Z"
    },
    "id": "NofaLbfY9Ocy",
    "jupyter": {
     "source_hidden": true
    }
   },
   "outputs": [],
   "source": [
    "import matplotlib.pyplot as plt\n",
    "\n",
    "def gen_graph(history, title):\n",
    "    \n",
    "  plt.plot(history.history['accuracy'])\n",
    "  plt.plot(history.history['val_accuracy'])\n",
    "  plt.title('model accuracy')\n",
    "  plt.ylabel('accuracy')\n",
    "  plt.xlabel('epoch')\n",
    "  plt.legend(['train', 'val'], loc='upper left')\n",
    "  plt.show()\n",
    "\n",
    "  plt.plot(history.history['loss'])\n",
    "  plt.plot(history.history['val_loss'])\n",
    "  plt.title('model loss')\n",
    "  plt.ylabel('loss')\n",
    "  plt.xlabel('epoch')\n",
    "  plt.legend(['train', 'val'], loc='upper left')\n",
    "  plt.show()\n",
    "  plt.show()"
   ]
  },
  {
   "cell_type": "code",
   "execution_count": null,
   "metadata": {
    "execution": {
     "iopub.execute_input": "2021-09-08T10:00:23.224906Z",
     "iopub.status.busy": "2021-09-08T10:00:23.224449Z",
     "iopub.status.idle": "2021-09-08T10:00:23.49921Z",
     "shell.execute_reply": "2021-09-08T10:00:23.49828Z",
     "shell.execute_reply.started": "2021-09-08T10:00:23.224851Z"
    },
    "id": "CiRO36Ia9P0C"
   },
   "outputs": [],
   "source": [
    "gen_graph(hist, 'Doodle CNN')"
   ]
  },
  {
   "cell_type": "code",
   "execution_count": null,
   "metadata": {
    "execution": {
     "iopub.execute_input": "2021-09-08T10:00:23.501041Z",
     "iopub.status.busy": "2021-09-08T10:00:23.500619Z",
     "iopub.status.idle": "2021-09-08T10:00:23.589124Z",
     "shell.execute_reply": "2021-09-08T10:00:23.588347Z",
     "shell.execute_reply.started": "2021-09-08T10:00:23.500999Z"
    },
    "id": "j0u9ebYFckX2"
   },
   "outputs": [],
   "source": [
    "model.save('model_perfect_deep_fully_trained_model.h5')"
   ]
  },
  {
   "cell_type": "code",
   "execution_count": null,
   "metadata": {
    "execution": {
     "iopub.execute_input": "2021-09-08T10:00:23.590759Z",
     "iopub.status.busy": "2021-09-08T10:00:23.590423Z",
     "iopub.status.idle": "2021-09-08T10:00:23.78804Z",
     "shell.execute_reply": "2021-09-08T10:00:23.785596Z",
     "shell.execute_reply.started": "2021-09-08T10:00:23.590724Z"
    },
    "id": "nqsi7xUuAVPq"
   },
   "outputs": [],
   "source": [
    "import cv2\n",
    "\n",
    "def get_processed_input_img(image_path, size=28):\n",
    "  test_img =  cv2.imread(image_path, cv2.IMREAD_GRAYSCALE)\n",
    "  kernel = np.ones((3, 3), np.uint8)\n",
    "  test_img = cv2.erode(test_img, kernel, iterations=1)\n",
    "#   print(test_img.shape)\n",
    "  test_img = cv2.resize(test_img, dsize=(size, size), interpolation=cv2.INTER_AREA)\n",
    "  thresh = 200\n",
    "  test_img = cv2.threshold(test_img, thresh, 255, cv2.THRESH_BINARY_INV)[1]\n",
    "#   cv2.imwrite('1s.png', test_img)\n",
    "  # plt.imshow(test_img)\n",
    "  test_img = test_img.reshape((1, size, size, 1)).astype(np.float32)\n",
    "  \n",
    "  return test_img/255\n",
    "\n",
    "img = get_processed_input_img('/content/f.png')\n",
    "\n",
    "\n",
    "# print(x_test[9], '\\n\\n\\n\\n')\n",
    "print(img)\n"
   ]
  },
  {
   "cell_type": "code",
   "execution_count": null,
   "metadata": {
    "execution": {
     "iopub.status.busy": "2021-09-08T10:00:23.788796Z",
     "iopub.status.idle": "2021-09-08T10:00:23.789201Z"
    },
    "id": "-MRmKXJPCmTH"
   },
   "outputs": [],
   "source": [
    "lbls"
   ]
  },
  {
   "cell_type": "code",
   "execution_count": null,
   "metadata": {
    "execution": {
     "iopub.status.busy": "2021-09-08T10:00:23.790838Z",
     "iopub.status.idle": "2021-09-08T10:00:23.791242Z"
    },
    "id": "Sge96KOoAxTL"
   },
   "outputs": [],
   "source": [
    "pred = model.predict(img)\n",
    "pred"
   ]
  },
  {
   "cell_type": "code",
   "execution_count": null,
   "metadata": {
    "execution": {
     "iopub.status.busy": "2021-09-08T10:00:23.797956Z",
     "iopub.status.idle": "2021-09-08T10:00:23.798428Z"
    },
    "id": "Tn_2BQbuBgQJ"
   },
   "outputs": [],
   "source": [
    "best_5 = (-pred).argsort()[0]\n",
    "best_5"
   ]
  },
  {
   "cell_type": "code",
   "execution_count": null,
   "metadata": {
    "execution": {
     "iopub.status.busy": "2021-09-08T10:00:23.801255Z",
     "iopub.status.idle": "2021-09-08T10:00:23.802089Z"
    },
    "id": "VftbBsSmB_Tk"
   },
   "outputs": [],
   "source": [
    "print([lbls[i] for i in best_5])"
   ]
  },
  {
   "cell_type": "code",
   "execution_count": null,
   "metadata": {
    "execution": {
     "iopub.status.busy": "2021-09-08T10:00:23.803292Z",
     "iopub.status.idle": "2021-09-08T10:00:23.804108Z"
    },
    "id": "bXM_boP2GF0-"
   },
   "outputs": [],
   "source": [
    "imgs = ['apple', 'f', 'ant', 'sun', 'bird']\n",
    "\n",
    "\n",
    "for i in imgs:\n",
    "  img = get_processed_input_img('/content/{}.png'.format(i))\n",
    "\n",
    "  plt.imshow((img * 255).reshape(28, 28))\n",
    "  plt.show()\n",
    "\n",
    "  pred = model.predict(img)[0]\n",
    "  print(pred)\n",
    "  best_5 = (-pred).argsort()\n",
    "  print(best_5)\n",
    "  print([lbls[i] for i in best_5])"
   ]
  }
 ],
 "metadata": {
  "kernelspec": {
   "display_name": "Python 3",
   "language": "python",
   "name": "python3"
  },
  "language_info": {
   "codemirror_mode": {
    "name": "ipython",
    "version": 3
   },
   "file_extension": ".py",
   "mimetype": "text/x-python",
   "name": "python",
   "nbconvert_exporter": "python",
   "pygments_lexer": "ipython3",
   "version": "3.8.5"
  }
 },
 "nbformat": 4,
 "nbformat_minor": 4
}